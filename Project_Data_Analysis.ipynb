{
 "cells": [
  {
   "cell_type": "code",
   "execution_count": 1,
   "id": "13d81996",
   "metadata": {},
   "outputs": [],
   "source": [
    "import pandas as pd\n",
    "import seaborn as sns\n",
    "import matplotlib.pyplot as plt\n",
    "import numpy as np"
   ]
  },
  {
   "cell_type": "code",
   "execution_count": 2,
   "id": "072720c3",
   "metadata": {},
   "outputs": [],
   "source": [
    "data= pd.read_csv(\"F:/3. Python - Project 1 Value Inc. Sales Analysis-20220705T101734Z-001/transaction.csv\")"
   ]
  },
  {
   "cell_type": "code",
   "execution_count": 3,
   "id": "c6320073",
   "metadata": {},
   "outputs": [
    {
     "data": {
      "text/html": [
       "<div>\n",
       "<style scoped>\n",
       "    .dataframe tbody tr th:only-of-type {\n",
       "        vertical-align: middle;\n",
       "    }\n",
       "\n",
       "    .dataframe tbody tr th {\n",
       "        vertical-align: top;\n",
       "    }\n",
       "\n",
       "    .dataframe thead th {\n",
       "        text-align: right;\n",
       "    }\n",
       "</style>\n",
       "<table border=\"1\" class=\"dataframe\">\n",
       "  <thead>\n",
       "    <tr style=\"text-align: right;\">\n",
       "      <th></th>\n",
       "      <th></th>\n",
       "      <th>UserId;TransactionId;Year;Month;Day;Time;ItemCode;ItemDescription;NumberOfItemsPurchased;CostPerItem;SellingPricePerItem;Country;ClientKeywords</th>\n",
       "    </tr>\n",
       "  </thead>\n",
       "  <tbody>\n",
       "    <tr>\n",
       "      <th>278166;6355745;2019;Feb;2;12:50:00;465549;FAMILY ALBUM WHITE PICTURE FRAME;6;11.73;21.11;United Kingdom;['Senior'</th>\n",
       "      <th>'Solo Entrepreneur'</th>\n",
       "      <td>'2-5 Year Client']</td>\n",
       "    </tr>\n",
       "    <tr>\n",
       "      <th>337701;6283376;2018;Dec;26;09:06:00;482370;LONDON BUS COFFEE MUG;3;3.52;3.87;United Kingdom;['Middle Age'</th>\n",
       "      <th>'Corporation'</th>\n",
       "      <td>'2-5 Year Client']</td>\n",
       "    </tr>\n",
       "    <tr>\n",
       "      <th>267099;6385599;2019;Feb;15;09:45:00;490728;SET 12 COLOUR PENCILS DOLLY GIRL ;72;0.9;1.62;France;['Middle Age'</th>\n",
       "      <th>'Corporation'</th>\n",
       "      <td>'2-5 Year Client']</td>\n",
       "    </tr>\n",
       "    <tr>\n",
       "      <th>380478;6044973;2018;Jun;22;07:14:00;459186;UNION JACK FLAG LUGGAGE TAG;3;1.73;1.9;United Kingdom;['Middle Age'</th>\n",
       "      <th>'Small Business'</th>\n",
       "      <td>'New Client']</td>\n",
       "    </tr>\n",
       "    <tr>\n",
       "      <th>-1;6143225;2018;Sep;10;11:58:00;1733592;WASHROOM METAL SIGN;3;3.4;5.78;United Kingdom;['Middle Age'</th>\n",
       "      <th>'Solo Entrepreneur'</th>\n",
       "      <td>'2-5 Year Client']</td>\n",
       "    </tr>\n",
       "  </tbody>\n",
       "</table>\n",
       "</div>"
      ],
      "text/plain": [
       "                                                                        UserId;TransactionId;Year;Month;Day;Time;ItemCode;ItemDescription;NumberOfItemsPurchased;CostPerItem;SellingPricePerItem;Country;ClientKeywords\n",
       "278166;6355745;2019;Feb;2;12:50:00;465549;FAMIL...  'Solo Entrepreneur'                                 '2-5 Year Client']                                                                                             \n",
       "337701;6283376;2018;Dec;26;09:06:00;482370;LOND...  'Corporation'                                       '2-5 Year Client']                                                                                             \n",
       "267099;6385599;2019;Feb;15;09:45:00;490728;SET ...  'Corporation'                                       '2-5 Year Client']                                                                                             \n",
       "380478;6044973;2018;Jun;22;07:14:00;459186;UNIO...  'Small Business'                                         'New Client']                                                                                             \n",
       "-1;6143225;2018;Sep;10;11:58:00;1733592;WASHROO...  'Solo Entrepreneur'                                 '2-5 Year Client']                                                                                             "
      ]
     },
     "execution_count": 3,
     "metadata": {},
     "output_type": "execute_result"
    }
   ],
   "source": [
    "data.head()"
   ]
  },
  {
   "cell_type": "code",
   "execution_count": 5,
   "id": "ea05a194",
   "metadata": {},
   "outputs": [
    {
     "data": {
      "text/plain": [
       "Index(['UserId;TransactionId;Year;Month;Day;Time;ItemCode;ItemDescription;NumberOfItemsPurchased;CostPerItem;SellingPricePerItem;Country;ClientKeywords'], dtype='object')"
      ]
     },
     "execution_count": 5,
     "metadata": {},
     "output_type": "execute_result"
    }
   ],
   "source": [
    "data.columns"
   ]
  },
  {
   "cell_type": "code",
   "execution_count": 6,
   "id": "f69115e6",
   "metadata": {},
   "outputs": [],
   "source": [
    "data= pd.read_csv(\"F:/3. Python - Project 1 Value Inc. Sales Analysis-20220705T101734Z-001/transaction.csv\", sep=';')"
   ]
  },
  {
   "cell_type": "code",
   "execution_count": 7,
   "id": "392200cd",
   "metadata": {},
   "outputs": [
    {
     "name": "stdout",
     "output_type": "stream",
     "text": [
      "<class 'pandas.core.frame.DataFrame'>\n",
      "RangeIndex: 1047588 entries, 0 to 1047587\n",
      "Data columns (total 13 columns):\n",
      " #   Column                  Non-Null Count    Dtype  \n",
      "---  ------                  --------------    -----  \n",
      " 0   UserId                  1047588 non-null  int64  \n",
      " 1   TransactionId           1047588 non-null  int64  \n",
      " 2   Year                    1047588 non-null  int64  \n",
      " 3   Month                   1047588 non-null  object \n",
      " 4   Day                     1047588 non-null  int64  \n",
      " 5   Time                    1047588 non-null  object \n",
      " 6   ItemCode                1047588 non-null  int64  \n",
      " 7   ItemDescription         1044797 non-null  object \n",
      " 8   NumberOfItemsPurchased  1047588 non-null  int64  \n",
      " 9   CostPerItem             1047588 non-null  float64\n",
      " 10  SellingPricePerItem     1047588 non-null  float64\n",
      " 11  Country                 1047588 non-null  object \n",
      " 12  ClientKeywords          1047588 non-null  object \n",
      "dtypes: float64(2), int64(6), object(5)\n",
      "memory usage: 103.9+ MB\n"
     ]
    }
   ],
   "source": [
    "#Summary of the data\n",
    "data.info()"
   ]
  },
  {
   "cell_type": "code",
   "execution_count": 8,
   "id": "b1793e09",
   "metadata": {},
   "outputs": [],
   "source": [
    "CostPerItem=data['CostPerItem']\n",
    "NumberOfItemsPurchased = data['NumberOfItemsPurchased']\n",
    "CostPerTransaction= CostPerItem*NumberOfItemsPurchased"
   ]
  },
  {
   "cell_type": "code",
   "execution_count": 10,
   "id": "c4a50eff",
   "metadata": {},
   "outputs": [],
   "source": [
    "data['CostPerTransaction'] = CostPerTransaction"
   ]
  },
  {
   "cell_type": "code",
   "execution_count": 12,
   "id": "cb0688f5",
   "metadata": {},
   "outputs": [
    {
     "name": "stdout",
     "output_type": "stream",
     "text": [
      "<class 'pandas.core.frame.DataFrame'>\n",
      "RangeIndex: 1047588 entries, 0 to 1047587\n",
      "Data columns (total 14 columns):\n",
      " #   Column                  Non-Null Count    Dtype  \n",
      "---  ------                  --------------    -----  \n",
      " 0   UserId                  1047588 non-null  int64  \n",
      " 1   TransactionId           1047588 non-null  int64  \n",
      " 2   Year                    1047588 non-null  int64  \n",
      " 3   Month                   1047588 non-null  object \n",
      " 4   Day                     1047588 non-null  int64  \n",
      " 5   Time                    1047588 non-null  object \n",
      " 6   ItemCode                1047588 non-null  int64  \n",
      " 7   ItemDescription         1044797 non-null  object \n",
      " 8   NumberOfItemsPurchased  1047588 non-null  int64  \n",
      " 9   CostPerItem             1047588 non-null  float64\n",
      " 10  SellingPricePerItem     1047588 non-null  float64\n",
      " 11  Country                 1047588 non-null  object \n",
      " 12  ClientKeywords          1047588 non-null  object \n",
      " 13  CostPerTransaction      1047588 non-null  float64\n",
      "dtypes: float64(3), int64(6), object(5)\n",
      "memory usage: 111.9+ MB\n"
     ]
    }
   ],
   "source": [
    "data.info()"
   ]
  },
  {
   "cell_type": "code",
   "execution_count": 14,
   "id": "ca559795",
   "metadata": {},
   "outputs": [],
   "source": [
    "#Sales Per Transaction\n",
    "data['SalesPerTransaction']= data['SellingPricePerItem'] *  data['NumberOfItemsPurchased']"
   ]
  },
  {
   "cell_type": "code",
   "execution_count": 15,
   "id": "5f21b39d",
   "metadata": {},
   "outputs": [
    {
     "name": "stdout",
     "output_type": "stream",
     "text": [
      "<class 'pandas.core.frame.DataFrame'>\n",
      "RangeIndex: 1047588 entries, 0 to 1047587\n",
      "Data columns (total 15 columns):\n",
      " #   Column                  Non-Null Count    Dtype  \n",
      "---  ------                  --------------    -----  \n",
      " 0   UserId                  1047588 non-null  int64  \n",
      " 1   TransactionId           1047588 non-null  int64  \n",
      " 2   Year                    1047588 non-null  int64  \n",
      " 3   Month                   1047588 non-null  object \n",
      " 4   Day                     1047588 non-null  int64  \n",
      " 5   Time                    1047588 non-null  object \n",
      " 6   ItemCode                1047588 non-null  int64  \n",
      " 7   ItemDescription         1044797 non-null  object \n",
      " 8   NumberOfItemsPurchased  1047588 non-null  int64  \n",
      " 9   CostPerItem             1047588 non-null  float64\n",
      " 10  SellingPricePerItem     1047588 non-null  float64\n",
      " 11  Country                 1047588 non-null  object \n",
      " 12  ClientKeywords          1047588 non-null  object \n",
      " 13  CostPerTransaction      1047588 non-null  float64\n",
      " 14  SalesPerTransaction     1047588 non-null  float64\n",
      "dtypes: float64(4), int64(6), object(5)\n",
      "memory usage: 119.9+ MB\n"
     ]
    }
   ],
   "source": [
    "data.info()"
   ]
  },
  {
   "cell_type": "code",
   "execution_count": 16,
   "id": "a66d343e",
   "metadata": {},
   "outputs": [],
   "source": [
    "#Profit Calculation = Sales-Cost\n",
    "data['ProfitPerTransaction'] = data['SalesPerTransaction']-data['CostPerTransaction']"
   ]
  },
  {
   "cell_type": "code",
   "execution_count": 17,
   "id": "5072098a",
   "metadata": {},
   "outputs": [],
   "source": [
    "#Markup=(Sales-Cost)/Cost\n",
    "data['Markup']= data['ProfitPerTransaction']/data['CostPerTransaction']"
   ]
  },
  {
   "cell_type": "code",
   "execution_count": 18,
   "id": "b39b51f0",
   "metadata": {},
   "outputs": [
    {
     "name": "stdout",
     "output_type": "stream",
     "text": [
      "<class 'pandas.core.frame.DataFrame'>\n",
      "RangeIndex: 1047588 entries, 0 to 1047587\n",
      "Data columns (total 17 columns):\n",
      " #   Column                  Non-Null Count    Dtype  \n",
      "---  ------                  --------------    -----  \n",
      " 0   UserId                  1047588 non-null  int64  \n",
      " 1   TransactionId           1047588 non-null  int64  \n",
      " 2   Year                    1047588 non-null  int64  \n",
      " 3   Month                   1047588 non-null  object \n",
      " 4   Day                     1047588 non-null  int64  \n",
      " 5   Time                    1047588 non-null  object \n",
      " 6   ItemCode                1047588 non-null  int64  \n",
      " 7   ItemDescription         1044797 non-null  object \n",
      " 8   NumberOfItemsPurchased  1047588 non-null  int64  \n",
      " 9   CostPerItem             1047588 non-null  float64\n",
      " 10  SellingPricePerItem     1047588 non-null  float64\n",
      " 11  Country                 1047588 non-null  object \n",
      " 12  ClientKeywords          1047588 non-null  object \n",
      " 13  CostPerTransaction      1047588 non-null  float64\n",
      " 14  SalesPerTransaction     1047588 non-null  float64\n",
      " 15  ProfitPerTransaction    1047588 non-null  float64\n",
      " 16  Markup                  1042743 non-null  float64\n",
      "dtypes: float64(6), int64(6), object(5)\n",
      "memory usage: 135.9+ MB\n"
     ]
    }
   ],
   "source": [
    "data.info()"
   ]
  },
  {
   "cell_type": "code",
   "execution_count": 25,
   "id": "a5a7957a",
   "metadata": {},
   "outputs": [],
   "source": [
    "#Rounding Markup\n",
    "data['Markup'] = round(data['Markup'], 2)"
   ]
  },
  {
   "cell_type": "code",
   "execution_count": 20,
   "id": "da8b8399",
   "metadata": {},
   "outputs": [],
   "source": [
    "#combining data fields\n",
    "day=data['Day'].astype(str)\n",
    "year=data['Year'].astype(str)\n",
    "my_date = day+'-'+data['Month']+'-'+year\n",
    "data['date'] = my_date"
   ]
  },
  {
   "cell_type": "code",
   "execution_count": 21,
   "id": "4662a46a",
   "metadata": {},
   "outputs": [
    {
     "data": {
      "text/html": [
       "<div>\n",
       "<style scoped>\n",
       "    .dataframe tbody tr th:only-of-type {\n",
       "        vertical-align: middle;\n",
       "    }\n",
       "\n",
       "    .dataframe tbody tr th {\n",
       "        vertical-align: top;\n",
       "    }\n",
       "\n",
       "    .dataframe thead th {\n",
       "        text-align: right;\n",
       "    }\n",
       "</style>\n",
       "<table border=\"1\" class=\"dataframe\">\n",
       "  <thead>\n",
       "    <tr style=\"text-align: right;\">\n",
       "      <th></th>\n",
       "      <th>UserId</th>\n",
       "      <th>TransactionId</th>\n",
       "      <th>Year</th>\n",
       "      <th>Month</th>\n",
       "      <th>Day</th>\n",
       "      <th>Time</th>\n",
       "      <th>ItemCode</th>\n",
       "      <th>ItemDescription</th>\n",
       "      <th>NumberOfItemsPurchased</th>\n",
       "      <th>CostPerItem</th>\n",
       "      <th>SellingPricePerItem</th>\n",
       "      <th>Country</th>\n",
       "      <th>ClientKeywords</th>\n",
       "      <th>CostPerTransaction</th>\n",
       "      <th>SalesPerTransaction</th>\n",
       "      <th>ProfitPerTransaction</th>\n",
       "      <th>Markup</th>\n",
       "      <th>date</th>\n",
       "    </tr>\n",
       "  </thead>\n",
       "  <tbody>\n",
       "    <tr>\n",
       "      <th>0</th>\n",
       "      <td>278166</td>\n",
       "      <td>6355745</td>\n",
       "      <td>2019</td>\n",
       "      <td>Feb</td>\n",
       "      <td>2</td>\n",
       "      <td>12:50:00</td>\n",
       "      <td>465549</td>\n",
       "      <td>FAMILY ALBUM WHITE PICTURE FRAME</td>\n",
       "      <td>6</td>\n",
       "      <td>11.73</td>\n",
       "      <td>21.11</td>\n",
       "      <td>United Kingdom</td>\n",
       "      <td>['Senior', 'Solo Entrepreneur', '2-5 Year Clie...</td>\n",
       "      <td>70.38</td>\n",
       "      <td>126.66</td>\n",
       "      <td>56.28</td>\n",
       "      <td>0.799659</td>\n",
       "      <td>2-Feb-2019</td>\n",
       "    </tr>\n",
       "    <tr>\n",
       "      <th>1</th>\n",
       "      <td>337701</td>\n",
       "      <td>6283376</td>\n",
       "      <td>2018</td>\n",
       "      <td>Dec</td>\n",
       "      <td>26</td>\n",
       "      <td>09:06:00</td>\n",
       "      <td>482370</td>\n",
       "      <td>LONDON BUS COFFEE MUG</td>\n",
       "      <td>3</td>\n",
       "      <td>3.52</td>\n",
       "      <td>3.87</td>\n",
       "      <td>United Kingdom</td>\n",
       "      <td>['Middle Age', 'Corporation', '2-5 Year Client']</td>\n",
       "      <td>10.56</td>\n",
       "      <td>11.61</td>\n",
       "      <td>1.05</td>\n",
       "      <td>0.099432</td>\n",
       "      <td>26-Dec-2018</td>\n",
       "    </tr>\n",
       "    <tr>\n",
       "      <th>2</th>\n",
       "      <td>267099</td>\n",
       "      <td>6385599</td>\n",
       "      <td>2019</td>\n",
       "      <td>Feb</td>\n",
       "      <td>15</td>\n",
       "      <td>09:45:00</td>\n",
       "      <td>490728</td>\n",
       "      <td>SET 12 COLOUR PENCILS DOLLY GIRL</td>\n",
       "      <td>72</td>\n",
       "      <td>0.90</td>\n",
       "      <td>1.62</td>\n",
       "      <td>France</td>\n",
       "      <td>['Middle Age', 'Corporation', '2-5 Year Client']</td>\n",
       "      <td>64.80</td>\n",
       "      <td>116.64</td>\n",
       "      <td>51.84</td>\n",
       "      <td>0.800000</td>\n",
       "      <td>15-Feb-2019</td>\n",
       "    </tr>\n",
       "  </tbody>\n",
       "</table>\n",
       "</div>"
      ],
      "text/plain": [
       "   UserId  TransactionId  Year Month  Day      Time  ItemCode  \\\n",
       "0  278166        6355745  2019   Feb    2  12:50:00    465549   \n",
       "1  337701        6283376  2018   Dec   26  09:06:00    482370   \n",
       "2  267099        6385599  2019   Feb   15  09:45:00    490728   \n",
       "\n",
       "                     ItemDescription  NumberOfItemsPurchased  CostPerItem  \\\n",
       "0   FAMILY ALBUM WHITE PICTURE FRAME                       6        11.73   \n",
       "1              LONDON BUS COFFEE MUG                       3         3.52   \n",
       "2  SET 12 COLOUR PENCILS DOLLY GIRL                       72         0.90   \n",
       "\n",
       "   SellingPricePerItem         Country  \\\n",
       "0                21.11  United Kingdom   \n",
       "1                 3.87  United Kingdom   \n",
       "2                 1.62          France   \n",
       "\n",
       "                                      ClientKeywords  CostPerTransaction  \\\n",
       "0  ['Senior', 'Solo Entrepreneur', '2-5 Year Clie...               70.38   \n",
       "1   ['Middle Age', 'Corporation', '2-5 Year Client']               10.56   \n",
       "2   ['Middle Age', 'Corporation', '2-5 Year Client']               64.80   \n",
       "\n",
       "   SalesPerTransaction  ProfitPerTransaction    Markup         date  \n",
       "0               126.66                 56.28  0.799659   2-Feb-2019  \n",
       "1                11.61                  1.05  0.099432  26-Dec-2018  \n",
       "2               116.64                 51.84  0.800000  15-Feb-2019  "
      ]
     },
     "execution_count": 21,
     "metadata": {},
     "output_type": "execute_result"
    }
   ],
   "source": [
    "data.iloc[0:3]"
   ]
  },
  {
   "cell_type": "code",
   "execution_count": 23,
   "id": "de4d22e9",
   "metadata": {},
   "outputs": [
    {
     "data": {
      "text/plain": [
       "0           2-Feb-2019\n",
       "1          26-Dec-2018\n",
       "2          15-Feb-2019\n",
       "3          22-Jun-2018\n",
       "4          10-Sep-2018\n",
       "              ...     \n",
       "1047583    16-Feb-2019\n",
       "1047584    15-Jan-2019\n",
       "1047585     8-Sep-2018\n",
       "1047586    20-Jul-2018\n",
       "1047587    10-Oct-2018\n",
       "Name: date, Length: 1047588, dtype: object"
      ]
     },
     "execution_count": 23,
     "metadata": {},
     "output_type": "execute_result"
    }
   ],
   "source": [
    "data.iloc[:, 17]"
   ]
  },
  {
   "cell_type": "code",
   "execution_count": 26,
   "id": "660b5c6d",
   "metadata": {},
   "outputs": [
    {
     "data": {
      "text/plain": [
       "0          0.8\n",
       "1          0.1\n",
       "2          0.8\n",
       "3          0.1\n",
       "4          0.7\n",
       "          ... \n",
       "1047583    0.6\n",
       "1047584    0.1\n",
       "1047585    0.1\n",
       "1047586    0.8\n",
       "1047587    0.8\n",
       "Name: Markup, Length: 1047588, dtype: float64"
      ]
     },
     "execution_count": 26,
     "metadata": {},
     "output_type": "execute_result"
    }
   ],
   "source": [
    "data.iloc[:,16]"
   ]
  },
  {
   "cell_type": "code",
   "execution_count": 27,
   "id": "aa956751",
   "metadata": {},
   "outputs": [],
   "source": [
    "#using split to split the client_keywords field\n",
    "split_col = data['ClientKeywords'].str.split(',' , expand = True )"
   ]
  },
  {
   "cell_type": "code",
   "execution_count": 28,
   "id": "687b2b5d",
   "metadata": {},
   "outputs": [],
   "source": [
    "#creating new columns for the split columns in Client Keywords\n",
    "data['ClientAge']=split_col[0]\n",
    "data['ClientType']=split_col[1]\n",
    "data['LengthofContract']=split_col[2]"
   ]
  },
  {
   "cell_type": "code",
   "execution_count": 32,
   "id": "1a42b83c",
   "metadata": {},
   "outputs": [
    {
     "name": "stderr",
     "output_type": "stream",
     "text": [
      "C:\\Users\\HP\\AppData\\Local\\Temp\\ipykernel_5544\\3176844745.py:2: FutureWarning: The default value of regex will change from True to False in a future version. In addition, single character regular expressions will *not* be treated as literal strings when regex=True.\n",
      "  data['ClientAge']=data['ClientAge'].str.replace('[','')\n",
      "C:\\Users\\HP\\AppData\\Local\\Temp\\ipykernel_5544\\3176844745.py:3: FutureWarning: The default value of regex will change from True to False in a future version. In addition, single character regular expressions will *not* be treated as literal strings when regex=True.\n",
      "  data['LengthofContract']=data['LengthofContract'].str.replace(']', '')\n"
     ]
    }
   ],
   "source": [
    "#using the replace function\n",
    "data['ClientAge']=data['ClientAge'].str.replace('[','')\n",
    "data['LengthofContract']=data['LengthofContract'].str.replace(']', '')"
   ]
  },
  {
   "cell_type": "code",
   "execution_count": 33,
   "id": "fa6558e9",
   "metadata": {},
   "outputs": [],
   "source": [
    "#using the lower function to change item to lowercase\n",
    "data['ItemDescription']=data['ItemDescription'].str.lower()"
   ]
  },
  {
   "cell_type": "code",
   "execution_count": 41,
   "id": "95666fb9",
   "metadata": {},
   "outputs": [
    {
     "data": {
      "text/html": [
       "<div>\n",
       "<style scoped>\n",
       "    .dataframe tbody tr th:only-of-type {\n",
       "        vertical-align: middle;\n",
       "    }\n",
       "\n",
       "    .dataframe tbody tr th {\n",
       "        vertical-align: top;\n",
       "    }\n",
       "\n",
       "    .dataframe thead th {\n",
       "        text-align: right;\n",
       "    }\n",
       "</style>\n",
       "<table border=\"1\" class=\"dataframe\">\n",
       "  <thead>\n",
       "    <tr style=\"text-align: right;\">\n",
       "      <th></th>\n",
       "      <th>Month</th>\n",
       "      <th>Seaon</th>\n",
       "    </tr>\n",
       "  </thead>\n",
       "  <tbody>\n",
       "    <tr>\n",
       "      <th>0</th>\n",
       "      <td>Jan</td>\n",
       "      <td>High</td>\n",
       "    </tr>\n",
       "    <tr>\n",
       "      <th>1</th>\n",
       "      <td>Feb</td>\n",
       "      <td>Mid</td>\n",
       "    </tr>\n",
       "    <tr>\n",
       "      <th>2</th>\n",
       "      <td>Mar</td>\n",
       "      <td>Low</td>\n",
       "    </tr>\n",
       "    <tr>\n",
       "      <th>3</th>\n",
       "      <td>Apr</td>\n",
       "      <td>Low</td>\n",
       "    </tr>\n",
       "    <tr>\n",
       "      <th>4</th>\n",
       "      <td>May</td>\n",
       "      <td>Low</td>\n",
       "    </tr>\n",
       "  </tbody>\n",
       "</table>\n",
       "</div>"
      ],
      "text/plain": [
       "  Month  Seaon\n",
       "0   Jan   High\n",
       "1   Feb    Mid\n",
       "2   Mar    Low\n",
       "3   Apr    Low\n",
       "4   May    Low"
      ]
     },
     "execution_count": 41,
     "metadata": {},
     "output_type": "execute_result"
    }
   ],
   "source": [
    "#bringing in a new dataset\n",
    "seasons=pd.read_csv(\"F:/3. Python - Project 1 Value Inc. Sales Analysis-20220705T101734Z-001/3. Python - Project 1 Value Inc. Sales Analysis/5.4 value_inc_seasons.csv\", sep=';')\n",
    "seasons.head()"
   ]
  },
  {
   "cell_type": "code",
   "execution_count": 42,
   "id": "659a0909",
   "metadata": {},
   "outputs": [],
   "source": [
    "#merging files\n",
    "data=pd.merge(data, seasons, on = 'Month')"
   ]
  },
  {
   "cell_type": "code",
   "execution_count": 52,
   "id": "79f9bcb5",
   "metadata": {},
   "outputs": [
    {
     "name": "stdout",
     "output_type": "stream",
     "text": [
      "\f",
      "\n"
     ]
    }
   ],
   "source": [
    "#dropping columns\n",
    "data = data.drop('ClientKeywords', axis = 1)\n",
    "data = data.drop('Day', axis = 1)\n",
    "data = data.drop(['Year','Month'], axis = 1)"
   ]
  },
  {
   "cell_type": "code",
   "execution_count": 51,
   "id": "1a844e0c",
   "metadata": {},
   "outputs": [
    {
     "name": "stdout",
     "output_type": "stream",
     "text": [
      "<class 'pandas.core.frame.DataFrame'>\n",
      "Int64Index: 1047588 entries, 0 to 1047587\n",
      "Data columns (total 18 columns):\n",
      " #   Column                  Non-Null Count    Dtype  \n",
      "---  ------                  --------------    -----  \n",
      " 0   UserId                  1047588 non-null  int64  \n",
      " 1   TransactionId           1047588 non-null  int64  \n",
      " 2   Time                    1047588 non-null  object \n",
      " 3   ItemCode                1047588 non-null  int64  \n",
      " 4   ItemDescription         1044797 non-null  object \n",
      " 5   NumberOfItemsPurchased  1047588 non-null  int64  \n",
      " 6   CostPerItem             1047588 non-null  float64\n",
      " 7   SellingPricePerItem     1047588 non-null  float64\n",
      " 8   Country                 1047588 non-null  object \n",
      " 9   CostPerTransaction      1047588 non-null  float64\n",
      " 10  SalesPerTransaction     1047588 non-null  float64\n",
      " 11  ProfitPerTransaction    1047588 non-null  float64\n",
      " 12  Markup                  1042743 non-null  float64\n",
      " 13  date                    1047588 non-null  object \n",
      " 14  ClientAge               1047588 non-null  object \n",
      " 15  ClientType              1047588 non-null  object \n",
      " 16  LengthofContract        1047588 non-null  object \n",
      " 17   Seaon                  1047588 non-null  object \n",
      "dtypes: float64(6), int64(4), object(8)\n",
      "memory usage: 151.9+ MB\n"
     ]
    }
   ],
   "source": [
    "data.info()"
   ]
  },
  {
   "cell_type": "code",
   "execution_count": 53,
   "id": "ed4577f5",
   "metadata": {},
   "outputs": [],
   "source": [
    "#Exporting data into csv\n",
    "data.to_csv('ValueInc_Cleaned.csv', index = False)"
   ]
  },
  {
   "cell_type": "code",
   "execution_count": null,
   "id": "bc5298ed",
   "metadata": {},
   "outputs": [],
   "source": []
  }
 ],
 "metadata": {
  "kernelspec": {
   "display_name": "Python 3 (ipykernel)",
   "language": "python",
   "name": "python3"
  },
  "language_info": {
   "codemirror_mode": {
    "name": "ipython",
    "version": 3
   },
   "file_extension": ".py",
   "mimetype": "text/x-python",
   "name": "python",
   "nbconvert_exporter": "python",
   "pygments_lexer": "ipython3",
   "version": "3.9.12"
  }
 },
 "nbformat": 4,
 "nbformat_minor": 5
}
